{
 "cells": [
  {
   "cell_type": "markdown",
   "metadata": {
    "tags": []
   },
   "source": [
    "# Lecture 5: Calorimeters\n",
    "\n",
    "## EM showers and electromagnetic calorimeter concept\n",
    "\n",
    "Author: Aleksander Filip Żarnecki (University of Warsaw)"
   ]
  },
  {
   "cell_type": "markdown",
   "metadata": {
    "jp-MarkdownHeadingCollapsed": true,
    "tags": []
   },
   "source": [
    "### Import libraries "
   ]
  },
  {
   "cell_type": "code",
   "execution_count": 1,
   "metadata": {},
   "outputs": [
    {
     "name": "stdout",
     "output_type": "stream",
     "text": [
      "Welcome to JupyROOT 6.24/04\n"
     ]
    }
   ],
   "source": [
    "import math\n",
    "from ROOT import *\n",
    "import numpy as np\n",
    "\n",
    "# For inline image display\n",
    "from IPython.display import Image"
   ]
  },
  {
   "cell_type": "markdown",
   "metadata": {
    "jp-MarkdownHeadingCollapsed": true,
    "tags": []
   },
   "source": [
    "### ROOT style configurationb"
   ]
  },
  {
   "cell_type": "code",
   "execution_count": 2,
   "metadata": {},
   "outputs": [],
   "source": [
    "# Set ROOT graphics options\n",
    "\n",
    "gROOT.SetStyle(\"Plain\")\n",
    "\n",
    "# Default canvas  size\n",
    "\n",
    "gStyle.SetCanvasDefW(600)\n",
    "gStyle.SetCanvasDefH(400)\n",
    " \n",
    "# set the margins\n",
    "  \n",
    "gStyle.SetPadBottomMargin(0.18)\n",
    "gStyle.SetPadTopMargin(0.08)\n",
    "gStyle.SetPadRightMargin(0.08)\n",
    "gStyle.SetPadLeftMargin(0.17)\n",
    "\n",
    "# set the number of divisions to show\n",
    "\n",
    "gStyle.SetNdivisions(510, \"xy\")\n",
    "\n",
    "# show grid\n",
    "\n",
    "gStyle.SetPadGridX(1)\n",
    "gStyle.SetPadGridY(1)\n",
    "\n",
    "# border ploted only around statistics\n",
    "\n",
    "gStyle.SetPadBorderMode(0)\n",
    "gStyle.SetFrameBorderMode(0)\n",
    "gStyle.SetLegendBorderSize(0)\n",
    "gStyle.SetTitleBorderSize(0)\n",
    "gStyle.SetStatBorderSize(1)\n",
    "\n",
    "# Text sizes\n",
    "\n",
    "gStyle.SetTextSize(0.05)\n",
    "gStyle.SetTitleSize(0.06,\"xyz\")\n",
    "gStyle.SetLabelSize(0.05,\"xyz\")\n",
    "\n",
    "gStyle.SetLabelOffset(0.015,\"xyz\")\n",
    "gStyle.SetTitleOffset(1.2,\"yz\")\n",
    "gStyle.SetTitleOffset(1.0,\"x\")\n",
    "\n",
    "# Font settings\n",
    "\n",
    "font = 42\n",
    "gStyle.SetTitleFont(font)\n",
    "gStyle.SetTitleFontSize(0.05)\n",
    "gStyle.SetStatFont(font)\n",
    "gStyle.SetStatFontSize(0.06)\n",
    "gStyle.SetTextFont(font)\n",
    "gStyle.SetLabelFont(font,\"xyz\")\n",
    "gStyle.SetTitleFont(font,\"xyz\")\n",
    "gStyle.SetLegendFont(font)\n",
    "\n",
    "# Line settings\n",
    "\n",
    "gStyle.SetHistLineWidth(2)\n",
    "gStyle.SetFrameLineWidth(2)\n",
    "gStyle.SetFuncWidth(2)\n",
    "gStyle.SetHistLineColor(kBlue)\n",
    "gStyle.SetFuncColor(kRed)\n",
    "\n",
    "# Log scale\n",
    "gStyle.SetOptLogy(0)\n",
    "\n",
    "# Histogram title\n",
    "gStyle.SetOptTitle(1)  \n",
    "\n",
    "# Histogram statistics\n",
    "gStyle.SetOptStat(1100)\n",
    "\n",
    "# Fit results\n",
    "gStyle.SetOptFit(0) \n"
   ]
  },
  {
   "cell_type": "markdown",
   "metadata": {
    "tags": []
   },
   "source": [
    "### Part I: definition of EM shower class\n",
    "\n",
    "* Single shower particle class"
   ]
  },
  {
   "cell_type": "code",
   "execution_count": 3,
   "metadata": {},
   "outputs": [],
   "source": [
    "# Class for single shower particle\n",
    "\n",
    "class shParticle:\n",
    "    'Particle of the EM shower (in 1D)'\n",
    "    E = 0.0\n",
    "    q = 0\n",
    "    xmin = 0.0\n",
    "    xmax = 0.0\n",
    "    \n",
    "    def __init__(self,E,q,xmin):\n",
    "        self.E = E\n",
    "        self.q = q\n",
    "        self.xmin = xmin\n",
    "        self.xmax = xmin\n",
    "        \n",
    "    def __str__(self):\n",
    "        if self.xmin == self.xmax :\n",
    "            return 'E = %g   q = % g    created at X = %g [X0]' % (self.E, self.q, self.xmin)\n",
    "        else :\n",
    "            return 'E = %g   q = % g    propagated from X = %g to %g  [X0]' % (self.E, self.q, self.xmin, self.xmax)\n",
    "        \n",
    "    def setlen(self,shlen):\n",
    "        self.xmax = self.xmin + shlen\n",
    " \n",
    "    def getlen(self):\n",
    "        return self.xmax - self.xmin\n",
    "    \n",
    "    def getsamp(self,dX):\n",
    "        i1 = int(self.xmin/dX)\n",
    "        i2 = int(self.xmax/dX)\n",
    "        return i2-i1\n"
   ]
  },
  {
   "cell_type": "code",
   "execution_count": 4,
   "metadata": {},
   "outputs": [
    {
     "name": "stdout",
     "output_type": "stream",
     "text": [
      "E = 10   q = -1    created at X = 0 [X0]\n",
      "E = 10   q = -1    propagated from X = 0 to 1.2  [X0]\n"
     ]
    }
   ],
   "source": [
    "# Test of the particle class\n",
    "\n",
    "x = shParticle(10.,-1.,0.)\n",
    "print(x)\n",
    "x.setlen(1.2)\n",
    "print(x)"
   ]
  },
  {
   "cell_type": "markdown",
   "metadata": {},
   "source": [
    "* Electromagnetic shower class\n",
    "\n",
    "(list of shower particles + few counters)"
   ]
  },
  {
   "cell_type": "code",
   "execution_count": 5,
   "metadata": {},
   "outputs": [],
   "source": [
    "# EM shower class\n",
    "\n",
    "class emShower:\n",
    "    'Model of EM shower development'\n",
    "\n",
    "    def __init__(self,E0,q0,x0):\n",
    "        # initialize with input particle\n",
    "        self.shower = []\n",
    "        self.shower.append(shParticle(E0,q0,x0))\n",
    "        # only propagated particles are counted\n",
    "        # so set counters to zero at that point\n",
    "        self.npar = 0  \n",
    "        self.nch = 0\n",
    "        self.chlen = 0.0\n",
    "        self.eloss = 0.0\n",
    "\n",
    "    def __str__(self):\n",
    "        return 'Shower with %d particles, %d charged, total track lenght %g X0, energy loss %g GeV' % (self.npar, self.nch, self.chlen, self.eloss)\n",
    "    \n",
    "    def develope(self,Ec,dEdx=0.0):\n",
    "        # consider increasing number of particles in the shower\n",
    "        for par in self.shower :\n",
    "            # conversion/radiation length [X0]\n",
    "            if par.q == 0 :\n",
    "                intlen = 9.0/7.0\n",
    "            else :\n",
    "                intlen = 1.0\n",
    "               \n",
    "            # generate conversion/radiation point\n",
    "            \n",
    "            shlen = np.random.exponential(intlen)\n",
    "            \n",
    "            # check energy loss of particle\n",
    "            \n",
    "            elen = 0\n",
    "            \n",
    "            if par.q != 0 and dEdx > 0 :\n",
    "                elen = shlen * dEdx\n",
    "                if elen > par.E :\n",
    "                    shlen = par.E/dEdx\n",
    "                    elen = par.E\n",
    "            \n",
    "            # propagate particle to this point\n",
    "            \n",
    "            par.setlen(shlen)\n",
    "            self.npar+=1\n",
    "            if par.q != 0 :\n",
    "                self.nch+=1\n",
    "                self.chlen+=shlen\n",
    "                self.eloss+=elen\n",
    "\n",
    "            # Energy at the final point\n",
    "            \n",
    "            Eleft = par.E - elen\n",
    "            \n",
    "            # Final point - origin for new particles\n",
    "            \n",
    "            xnew = par.xmax \n",
    "           \n",
    "            # If above critical energy:\n",
    "            #   convert gamma to two photons or radiate photon\n",
    "            if Eleft > Ec :\n",
    "                E1 = Eleft * np.random.random(1)    #  Very siplified energy splitting\n",
    "                E2 = Eleft - E1\n",
    "                if par.q == 0 :\n",
    "                    self.shower.append(shParticle(E1,+1,xnew))\n",
    "                    self.shower.append(shParticle(E2,-1,xnew))\n",
    "                else:\n",
    "                    self.shower.append(shParticle(E1,par.q,xnew))\n",
    "                    self.shower.append(shParticle(E2,0,xnew))\n",
    "                    \n",
    "    def sample(self,Xsamp):\n",
    "        nsamp = 0\n",
    "        for par in self.shower:\n",
    "            if par.q != 0 :\n",
    "                nsamp += par.getsamp(Xsamp)\n",
    "        return nsamp\n",
    "\n",
    "    def profile(self,Nbin,Xmax):\n",
    "        hprof = TH1D(\"hprof\",\"Shower profile\",Nbin, 0, Xmax)\n",
    "        hprof.GetXaxis().SetTitle(\"x [X0]\")\n",
    "        hprof.GetYaxis().SetTitle(\"Particles\")\n",
    "        dX=Xmax/Nbin\n",
    "        for par in self.shower:\n",
    "            if par.q != 0 :\n",
    "                nx = par.getsamp(dX)\n",
    "                for ix in range(nx):\n",
    "                    hprof.Fill(par.xmin+ix*dX)\n",
    "        return hprof\n",
    "    \n",
    "    def dump(self,Nprt):\n",
    "        for iprt in range(len(self.shower)):\n",
    "            print(self.shower[iprt])\n",
    "            if iprt+1 == Nprt : break\n",
    "  "
   ]
  },
  {
   "cell_type": "code",
   "execution_count": 6,
   "metadata": {},
   "outputs": [
    {
     "name": "stdout",
     "output_type": "stream",
     "text": [
      "Shower with 0 particles, 0 charged, total track lenght 0 X0, energy loss 0 GeV\n",
      "Initial particle:  E = 0.1   q =  0    created at X = 0 [X0] \n",
      "\n",
      "Shower with 3 particles, 2 charged, total track lenght 1 X0, energy loss 0.1 GeV\n",
      "E = 0.1   q =  0    propagated from X = 0 to 1.21274  [X0]\n",
      "E = 0.0532004   q =  1    propagated from X = 1.21274 to 1.74474  [X0]\n",
      "E = 0.0467996   q = -1    propagated from X = 1.21274 to 1.68073  [X0]\n"
     ]
    }
   ],
   "source": [
    "# Test of shower class\n",
    "\n",
    "testshower = emShower(0.1,0.,0.)  # 100 MeV photon at x = 0\n",
    "print(testshower)                 # Shower not created yet!\n",
    "print(\"Initial particle: \",testshower.shower[0],\"\\n\")\n",
    "\n",
    "# Generate EM shower from primary particle\n",
    "\n",
    "testshower.develope(0.,0.1)  # No critical energy, high ionization losses (to reduce number of secondaries)\n",
    "\n",
    "print(testshower)             # Final shower statistics \n",
    "\n",
    "# Test shower dump (all)\n",
    "\n",
    "testshower.dump(-1)"
   ]
  },
  {
   "cell_type": "code",
   "execution_count": 7,
   "metadata": {},
   "outputs": [
    {
     "name": "stdout",
     "output_type": "stream",
     "text": [
      "Shower with  3  particles,  2  charged particles\n",
      "Total length of charged particle tracks: 1 X0 \n",
      "Total energy deposited in ionization: 0.1 GeV \n"
     ]
    }
   ],
   "source": [
    "# Direct access to shower variables:\n",
    "\n",
    "print('Shower with ',testshower.npar,' particles, ',testshower.nch,' charged particles')\n",
    "print('Total length of charged particle tracks: %.3g X0 ' % float(testshower.chlen))\n",
    "print('Total energy deposited in ionization: %.5g GeV ' % float(testshower.eloss))\n"
   ]
  },
  {
   "cell_type": "markdown",
   "metadata": {
    "tags": []
   },
   "source": [
    "### Part II\n",
    "### Shower simulation"
   ]
  },
  {
   "cell_type": "code",
   "execution_count": 8,
   "metadata": {},
   "outputs": [],
   "source": [
    "# Properties of the absorber material (Copper)\n",
    "\n",
    "# Critical energy [GeV] for Copper\n",
    "\n",
    "Ec = 0.020\n",
    "\n",
    "# Ionization losses [GeV/X0] for Copper (MIP)\n",
    "\n",
    "dEdx = 0.018\n"
   ]
  },
  {
   "cell_type": "code",
   "execution_count": 9,
   "metadata": {},
   "outputs": [
    {
     "name": "stdout",
     "output_type": "stream",
     "text": [
      "Initial shower particle:  E = 5   q = -1    created at X = 0 [X0]\n",
      "Shower with 433 particles, 307 charged, total track lenght 213.917 X0, energy loss 3.85051 GeV\n"
     ]
    }
   ],
   "source": [
    "#  Incident particle (5 GeV electron)\n",
    "\n",
    "E0 = 5\n",
    "q0 = -1\n",
    "\n",
    "# Initialise shower with incident particle\n",
    "\n",
    "myshower = emShower(E0,q0,0.)\n",
    "\n",
    "print(\"Initial shower particle: \", myshower.shower[0])\n",
    "\n",
    "\n",
    "# Execute shower development procedure (with Copper parameters)\n",
    "\n",
    "myshower.develope(Ec,dEdx)\n",
    "\n",
    "# Shower summary\n",
    "\n",
    "print(myshower)"
   ]
  },
  {
   "cell_type": "code",
   "execution_count": 10,
   "metadata": {},
   "outputs": [
    {
     "name": "stdout",
     "output_type": "stream",
     "text": [
      "E = 5   q = -1    propagated from X = 0 to 2.23909  [X0]\n",
      "E = 0.358499   q = -1    propagated from X = 2.23909 to 3.0714  [X0]\n",
      "E = 4.6012   q =  0    propagated from X = 2.23909 to 3.15736  [X0]\n",
      "E = 0.213823   q = -1    propagated from X = 3.0714 to 6.71597  [X0]\n",
      "E = 0.129694   q =  0    propagated from X = 3.0714 to 8.75702  [X0]\n",
      "E = 0.68681   q =  1    propagated from X = 3.15736 to 3.98991  [X0]\n",
      "E = 3.91439   q = -1    propagated from X = 3.15736 to 4.18491  [X0]\n",
      "E = 0.0963509   q = -1    propagated from X = 6.71597 to 7.07386  [X0]\n",
      "E = 0.0518697   q =  0    propagated from X = 6.71597 to 6.87717  [X0]\n",
      "E = 0.108475   q =  1    propagated from X = 8.75702 to 9.48056  [X0]\n"
     ]
    }
   ],
   "source": [
    "# Test shower dump (first 10 rows)\n",
    "\n",
    "myshower.dump(10)\n"
   ]
  },
  {
   "cell_type": "code",
   "execution_count": 11,
   "metadata": {},
   "outputs": [
    {
     "data": {
      "image/png": "[encoded data removed]",
      "text/plain": [
       "<IPython.core.display.Image object>"
      ]
     },
     "execution_count": 11,
     "metadata": {},
     "output_type": "execute_result"
    },
    {
     "name": "stderr",
     "output_type": "stream",
     "text": [
      "Info in <TCanvas::Print>: png file shprofile_5.png has been created\n"
     ]
    }
   ],
   "source": [
    "# Histogram of the longitudinal shower profile\n",
    "\n",
    "Xmax = 50.\n",
    "Nprof = 200\n",
    "\n",
    "shprofile=myshower.profile(Nprof,Xmax)\n",
    "\n",
    "csh = TCanvas('csh')\n",
    "\n",
    "shprofile.DrawCopy()\n",
    "\n",
    "csh.Update()\n",
    "\n",
    "fname='shprofile_'+str(E0)+'.png'\n",
    "csh.Print(fname)\n",
    "Image(filename=fname)"
   ]
  },
  {
   "cell_type": "markdown",
   "metadata": {
    "tags": []
   },
   "source": [
    "### Part III\n",
    "### Average cascade profile"
   ]
  },
  {
   "cell_type": "code",
   "execution_count": 12,
   "metadata": {},
   "outputs": [
    {
     "name": "stdout",
     "output_type": "stream",
     "text": [
      "100  showers generated  447  particles\n",
      "200  showers generated  447  particles\n",
      "300  showers generated  431  particles\n",
      "400  showers generated  475  particles\n",
      "500  showers generated  399  particles\n",
      "600  showers generated  423  particles\n",
      "700  showers generated  413  particles\n",
      "800  showers generated  447  particles\n",
      "900  showers generated  453  particles\n",
      "1000  showers generated  391  particles\n"
     ]
    }
   ],
   "source": [
    "#  Incident particle (5 GeV electron)\n",
    "\n",
    "E0 = 5\n",
    "q0 = -1\n",
    "\n",
    "# Repeat shower simulation multiple times\n",
    "\n",
    "Nmc = 1000\n",
    "myshowers = []\n",
    "\n",
    "for imc in range(Nmc):\n",
    "    newshower = emShower(E0,q0,0.)\n",
    "    newshower.develope(Ec,dEdx)\n",
    "    myshowers.append(newshower)\n",
    "    if (imc+1)%100 == 0:\n",
    "        print(imc+1,' showers generated ',myshowers[imc].npar,' particles')"
   ]
  },
  {
   "cell_type": "code",
   "execution_count": 13,
   "metadata": {},
   "outputs": [
    {
     "data": {
      "image/png": "[encoded data removed]",
      "text/plain": [
       "<IPython.core.display.Image object>"
      ]
     },
     "execution_count": 13,
     "metadata": {},
     "output_type": "execute_result"
    },
    {
     "name": "stderr",
     "output_type": "stream",
     "text": [
      "Info in <TCanvas::Print>: png file avprofile_5.png has been created\n"
     ]
    }
   ],
   "source": [
    "# Define empty histogram with the same binning (Nprof,Xmax) as before\n",
    "\n",
    "avprofile=shprofile\n",
    "avprofile.SetNameTitle(\"havprof\",\"Average shower profile\")\n",
    "avprofile.Reset()\n",
    "\n",
    "# Average generated showers\n",
    "\n",
    "wmc = 1/Nmc\n",
    "\n",
    "for newshower in myshowers:\n",
    "    avprofile.Add(newshower.profile(Nprof,Xmax),wmc)\n",
    "\n",
    "csh2 = TCanvas('csh2')\n",
    "avprofile.DrawCopy()\n",
    "\n",
    "csh2.Update()\n",
    "fname = 'avprofile_'+str(E0)+'.png'\n",
    "csh2.Print(fname)\n",
    "Image(filename=fname)"
   ]
  },
  {
   "cell_type": "code",
   "execution_count": 14,
   "metadata": {},
   "outputs": [
    {
     "data": {
      "image/png": "[encoded data removed]",
      "text/plain": [
       "<IPython.core.display.Image object>"
      ]
     },
     "execution_count": 14,
     "metadata": {},
     "output_type": "execute_result"
    },
    {
     "name": "stderr",
     "output_type": "stream",
     "text": [
      "Info in <TCanvas::Print>: png file avprofile_5_log.png has been created\n"
     ]
    }
   ],
   "source": [
    "csh2.SetLogy(1)\n",
    "csh2.Update()\n",
    "fname = 'avprofile_'+str(E0)+'_log.png'\n",
    "csh2.Print(fname)\n",
    "Image(filename=fname)"
   ]
  },
  {
   "cell_type": "markdown",
   "metadata": {
    "tags": []
   },
   "source": [
    "### Part IV\n",
    "### Uniform calorimeter response"
   ]
  },
  {
   "cell_type": "code",
   "execution_count": 15,
   "metadata": {},
   "outputs": [
    {
     "data": {
      "image/png": "[encoded data removed]",
      "text/plain": [
       "<IPython.core.display.Image object>"
      ]
     },
     "execution_count": 15,
     "metadata": {},
     "output_type": "execute_result"
    },
    {
     "name": "stderr",
     "output_type": "stream",
     "text": [
      "Info in <TCanvas::Print>: png file hchlen_5.png has been created\n"
     ]
    }
   ],
   "source": [
    "# Prepare response histograms\n",
    "\n",
    "Nbin = 100\n",
    "\n",
    "Lmax = 1.5*E0/Ec\n",
    "\n",
    "hchlen = TH1D(\"hchlen\",\"Total shower track length\",Nbin, 0, Lmax)\n",
    "hchlen.GetXaxis().SetTitle(\"L_{ch} [X0]\")\n",
    "hchlen.GetYaxis().SetTitle(\"Events\")\n",
    "\n",
    "# Scan simulated showers\n",
    "\n",
    "dchlen = []\n",
    "dchlen.clear()\n",
    "\n",
    "for shower in myshowers:\n",
    "    dchlen.append(shower.chlen)\n",
    "    hchlen.Fill(shower.chlen)\n",
    "\n",
    "\n",
    "clen = TCanvas('clen')\n",
    "\n",
    "hchlen.DrawCopy()\n",
    "\n",
    "clen.Update()\n",
    "\n",
    "fname='hchlen_'+str(E0)+'.png'\n",
    "clen.Print(fname)\n",
    "Image(filename=fname)"
   ]
  },
  {
   "cell_type": "code",
   "execution_count": 16,
   "metadata": {},
   "outputs": [
    {
     "name": "stdout",
     "output_type": "stream",
     "text": [
      "Uniform calorimeter model: 2.49% energy resolution at 5 GeV \n"
     ]
    }
   ],
   "source": [
    "# Estimate uniform calorimeter resolution\n",
    "\n",
    "print('Uniform calorimeter model: %.3g%% energy resolution at %g GeV ' % (100*np.std(dchlen)/np.mean(dchlen),E0))"
   ]
  },
  {
   "cell_type": "markdown",
   "metadata": {
    "tags": []
   },
   "source": [
    "### Part V\n",
    "### Sampling calorimeter response"
   ]
  },
  {
   "cell_type": "code",
   "execution_count": 19,
   "metadata": {},
   "outputs": [
    {
     "data": {
      "image/png": "[encoded data removed]",
      "text/plain": [
       "<IPython.core.display.Image object>"
      ]
     },
     "execution_count": 19,
     "metadata": {},
     "output_type": "execute_result"
    },
    {
     "name": "stderr",
     "output_type": "stream",
     "text": [
      "Warning in <TROOT::Append>: Replacing existing TH1: hchhit (Potential memory leak).\n",
      "Warning in <TCanvas::Constructor>: Deleting canvas with same name: chit\n",
      "Info in <TCanvas::Print>: png file hchhit_5.png has been created\n"
     ]
    }
   ],
   "source": [
    "# Sampling distance [X0]\n",
    "\n",
    "Xsamp = 0.1\n",
    "\n",
    "# Prepare response histograms\n",
    "\n",
    "Nbin = 100\n",
    "\n",
    "Lmax = 1.5*E0/Ec\n",
    "Nmax = Lmax/Xsamp\n",
    "\n",
    "hchhit = TH1D(\"hchhit\",\"Total number of hits\",Nbin, 0, Nmax)\n",
    "hchhit.GetXaxis().SetTitle(\"Hit count\")\n",
    "hchhit.GetYaxis().SetTitle(\"Events\")\n",
    "\n",
    "# Sample generated showers\n",
    "dchhit = []\n",
    "dchhit.clear()\n",
    "\n",
    "for shower in myshowers:\n",
    "    nsamp=shower.sample(Xsamp)\n",
    "    dchhit.append(nsamp)\n",
    "    hchhit.Fill(nsamp)\n",
    "\n",
    "# Plot histogram\n",
    "\n",
    "chit = TCanvas('chit')\n",
    "\n",
    "hchhit.DrawCopy()\n",
    "\n",
    "chit.Update()\n",
    "\n",
    "fname = 'hchhit_'+str(E0)+'.png'\n",
    "chit.Print(fname)\n",
    "Image(filename=fname)"
   ]
  },
  {
   "cell_type": "code",
   "execution_count": 20,
   "metadata": {},
   "outputs": [
    {
     "name": "stdout",
     "output_type": "stream",
     "text": [
      "Sampling calorimeter model: 2.52% resolution at 5 GeV \n"
     ]
    }
   ],
   "source": [
    "print('Sampling calorimeter model: %.3g%% resolution at %g GeV ' % (100*np.std(dchhit)/np.mean(dchhit),E0))"
   ]
  },
  {
   "cell_type": "code",
   "execution_count": null,
   "metadata": {},
   "outputs": [],
   "source": []
  }
 ],
 "metadata": {
  "kernelspec": {
   "display_name": "Python 3",
   "language": "python",
   "name": "python3"
  },
  "language_info": {
   "codemirror_mode": {
    "name": "ipython",
    "version": 3
   },
   "file_extension": ".py",
   "mimetype": "text/x-python",
   "name": "python",
   "nbconvert_exporter": "python",
   "pygments_lexer": "ipython3",
   "version": "3.9.7"
  }
 },
 "nbformat": 4,
 "nbformat_minor": 4
}
